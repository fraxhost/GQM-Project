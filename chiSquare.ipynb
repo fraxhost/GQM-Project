{
  "nbformat": 4,
  "nbformat_minor": 0,
  "metadata": {
    "colab": {
      "name": "chiSquare.ipynb",
      "provenance": []
    },
    "kernelspec": {
      "name": "python3",
      "display_name": "Python 3"
    },
    "language_info": {
      "name": "python"
    }
  },
  "cells": [
    {
      "cell_type": "code",
      "execution_count": 26,
      "metadata": {
        "colab": {
          "base_uri": "https://localhost:8080/"
        },
        "id": "uwo7fRar6Xwq",
        "outputId": "31a7d719-b4c6-43f6-d188-f29d19334e69"
      },
      "outputs": [
        {
          "output_type": "execute_result",
          "data": {
            "text/plain": [
              "(3.869514895330113, 0.04917073152926128, 1, array([[17.08571429,  5.91428571],\n",
              "        [ 8.91428571,  3.08571429]]))"
            ]
          },
          "metadata": {},
          "execution_count": 26
        }
      ],
      "source": [
        "import numpy as np\n",
        "from scipy.stats import chi2_contingency \n",
        "# using Pearson’s chi-squared statistic\n",
        "# corrected for the Yates’ continuity\n",
        "observed = np.array([[20,3], [6, 6]])\n",
        "chi_val, p_val, dof, expected =  chi2_contingency(observed)\n",
        "chi_val, p_val, dof, expected"
      ]
    }
  ]
}